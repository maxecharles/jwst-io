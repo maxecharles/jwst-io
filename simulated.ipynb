{
 "cells": [
  {
   "cell_type": "code",
   "execution_count": 1,
   "metadata": {},
   "outputs": [
    {
     "name": "stdout",
     "output_type": "stream",
     "text": [
      "dLux: Jax is running in 32-bit, to enable 64-bit visit: https://jax.readthedocs.io/en/latest/notebooks/Common_Gotchas_in_JAX.html#double-64bit-precision\n"
     ]
    }
   ],
   "source": [
    "# io stuff\n",
    "from io_funcs import initialise_disk, IoSource, HD2236, DefinitelyRealIo, get_filter_spectrum, plot_params, plotting_io_comparison, get_residual_bounds, get_residuals\n",
    "\n",
    "import os\n",
    "os.chdir(\"/Users/mcha5804/Library/CloudStorage/OneDrive-TheUniversityofSydney(Students)/PyCharm/amigo/src/amigo\")\n",
    "\n",
    "# autodiff\n",
    "import jax\n",
    "from jax import vmap, scipy as jsp, numpy as np, Array, random as jr\n",
    "import dLux as dl\n",
    "import dLux.utils as dlu\n",
    "import dLuxWebbpsf as dlW\n",
    "from zodiax.experimental import deserialise\n",
    "import equinox as eqx\n",
    "\n",
    "# visualisation\n",
    "import matplotlib.pyplot as plt\n",
    "from matplotlib import colormaps, colors\n",
    "import ehtplot\n",
    "from geckos_colourmap import geckos_div\n",
    "\n",
    "# astronomy\n",
    "from astropy.io import fits\n",
    "from astropy import units as u\n",
    "import webbpsf\n",
    "from xara.core import determine_origin\n",
    "\n",
    "# optimisation\n",
    "import optax\n",
    "from io_funcs import *\n",
    "from optim_funcs import *\n",
    "\n",
    "# AMIGO\n",
    "from amigo.core import AMIOptics, SUB80Ramp, BaseModeller\n",
    "from amigo.stats import check_symmetric, check_positive_semi_definite, total_read_noise, build_cov\n",
    "from amigo.detector_layers import model_ramp\n",
    "from amigo.fitting import optimise\n",
    "\n",
    "# files\n",
    "from zodiax.experimental import serialise, deserialise\n",
    "\n",
    "# bruh\n",
    "import numpy as onp\n",
    "\n",
    "# matplotlib parameters\n",
    "%matplotlib inline\n",
    "plt.rcParams[\"image.cmap\"] = \"inferno\"\n",
    "plt.rcParams[\"font.family\"] = \"serif\"\n",
    "plt.rcParams[\"image.origin\"] = \"lower\"\n",
    "plt.rcParams[\"figure.dpi\"] = 100\n",
    "plt.rcParams[\"font.size\"] = 10\n",
    "\n",
    "inferno = colormaps[\"inferno\"]\n",
    "seismic = colormaps[\"seismic\"]\n",
    "\n",
    "inferno.set_bad(\"k\", 0.5)\n",
    "seismic.set_bad(\"k\", 0.5)\n",
    "\n",
    "jax.config.update(\"jax_enable_x64\", True)\n",
    "# jax.config.update(\"jax_debug_nans\", True)\n",
    "\n",
    "sunset_dark = geckos_div(variation=\"geckos_sunset_darkred\")\n",
    "sunset = geckos_div(variation=\"geckos_sunset\")"
   ]
  },
  {
   "cell_type": "code",
   "execution_count": 2,
   "metadata": {},
   "outputs": [
    {
     "data": {
      "image/png": "[encoded data removed]",
      "text/plain": [
       "<Figure size 640x480 with 1 Axes>"
      ]
     },
     "metadata": {},
     "output_type": "display_data"
    }
   ],
   "source": [
    "n_ios = 1\n",
    "ios = [DefinitelyRealIo(night_day_ratio=1, volc_contrast=1e-2, seed=2, n_volcanoes=3) for i in range(n_ios)]\n",
    "\n",
    "for io in ios:\n",
    "    plt.imshow(io.data, cmap='afmhot_10u')\n",
    "    plt.show()"
   ]
  },
  {
   "cell_type": "code",
   "execution_count": 3,
   "metadata": {},
   "outputs": [],
   "source": [
    "# np.save(\"fake_io_noterm.npy\", ios[1].data)\n",
    "# canon_io = np.load(\"fake_io_noterm.npy\")\n",
    "canon_io = ios[0]"
   ]
  },
  {
   "cell_type": "code",
   "execution_count": 4,
   "metadata": {},
   "outputs": [],
   "source": [
    "BFE = deserialise(\"/Users/mcha5804/Library/CloudStorage/OneDrive-TheUniversityofSydney(Students)/PyCharm/jwst/bfe/PolyBFE_trained.zdx\")\n",
    "pupil_mask = deserialise(\"/Users/mcha5804/Library/CloudStorage/OneDrive-TheUniversityofSydney(Students)/PyCharm/jwst/bfe/PolyBFE_AMI_mask.zdx\")"
   ]
  },
  {
   "cell_type": "code",
   "execution_count": 5,
   "metadata": {},
   "outputs": [],
   "source": [
    "# Get webbpsf optical system for OPD\n",
    "inst = webbpsf.NIRISS()\n",
    "# inst.load_wss_opd_by_date(files[0][0].header[\"DATE-BEG\"], verbose=False)\n",
    "opd = np.array(inst.get_optical_system().planes[0].opd)\n",
    "\n",
    "# Get dLux optical system\n",
    "optics = AMIOptics(\n",
    "    opd=opd,\n",
    "    pupil_mask=pupil_mask,\n",
    "    # radial_orders=[0, 1, 2, 3],\n",
    "    normalise=True,\n",
    "    )\n",
    "\n",
    "detector = SUB80Ramp()\n",
    "\n",
    "key = jr.PRNGKey(0)\n",
    "ngroups = 3\n",
    "\n",
    "params = {}\n",
    "params[\"position\"] = jr.uniform(key, (2,), minval=-0.5, maxval=0.5)\n",
    "params[\"log_flux\"] = jr.uniform(key, (1,), minval=6.9, maxval=7.1)\n",
    "params[\"aberrations\"] = 5*jr.normal(key, optics.coefficients.shape)\n",
    "params[\"biases\"] = 25*jr.normal(key, (80, 80)) + 80\n",
    "params[\"OneOnFs\"] = 10*jr.normal(key, (ngroups, 80, 2))\n",
    "params[\"BFE\"] = BFE\n",
    "# params[\"aberrations\"] = np.zeros(optics.coefficients.shape)\n",
    "# params[\"biases\"] = np.zeros((80, 80))\n",
    "# params[\"OneOnFs\"] = np.zeros((ngroups, 80, 2))\n",
    "# params[\"BFE\"] = PolyBFE(ksize=5, oversample=1, orders=[1, 2])\n",
    "params[\"filter\"] = get_filter_spectrum(\"F430M\", file_path=\"/Users/mcha5804/Library/CloudStorage/OneDrive-TheUniversityofSydney(Students)/PyCharm/jwst/data/niriss_filters/\")\n",
    "params[\"optics\"] = optics\n",
    "params[\"detector\"] = detector\n",
    "params[\"source\"] = IoSource(\n",
    "    position=params[\"position\"],\n",
    "    log_flux=params[\"log_flux\"],\n",
    "    distribution=canon_io.data,\n",
    "    spectrum=params[\"filter\"],\n",
    ")\n",
    "params[\"volcanoes\"] = canon_io.volcanoes / canon_io.volcanoes.sum() # DO THIS IN THE CLASS\n",
    "params[\"disk\"] = canon_io.disk\n",
    "params[\"volc_contrast\"] = 5e-2\n",
    "true_model = BaseModeller(params)"
   ]
  },
  {
   "cell_type": "code",
   "execution_count": 6,
   "metadata": {},
   "outputs": [],
   "source": [
    "def model_fn(model, n_groups=ngroups, to_BFE=False):\n",
    "\n",
    "    source = model.source.set(\n",
    "        [\"position\", \"log_flux\"],\n",
    "        [model.position, model.log_flux],\n",
    "    )\n",
    "\n",
    "    distribution = model.disk.data + model.volc_contrast * model.volcanoes\n",
    "    source = source.set('distribution', distribution)  # ONLY FIT THE VOLCANOES\n",
    "\n",
    "    # # Apply correct aberrations\n",
    "    # optics = model.optics.set(\"coefficients\", model.aberrations)\n",
    "\n",
    "    # Make sure this has correct position units and get wavefronts\n",
    "    PSF = source.model(optics, return_psf=True)\n",
    "\n",
    "    # Apply the detector model and turn it into a ramp\n",
    "    psf = model.detector.model(PSF)\n",
    "    ramp = model_ramp(psf, n_groups)\n",
    "\n",
    "    # if to_BFE:\n",
    "    #     return ramp\n",
    "\n",
    "    # Now apply the CNN BFE and downsample\n",
    "    ramp = eqx.filter_vmap(model.BFE.apply_array)(ramp)\n",
    "    ramp = vmap(dlu.resize, (0, None))(ramp, 80)\n",
    "\n",
    "    # Apply bias and one of F correction\n",
    "    ramp += total_read_noise(model.biases, model.OneOnFs)\n",
    "    return ramp\n"
   ]
  },
  {
   "cell_type": "code",
   "execution_count": 7,
   "metadata": {},
   "outputs": [],
   "source": [
    "def add_noise_to_ramp(clean_ramp):\n",
    "    \"\"\"\n",
    "    Add poisson noise to the ramp.\n",
    "    \"\"\"\n",
    "    ramp = []\n",
    "    for i in range(len(clean_ramp)):\n",
    "        seed = onp.random.randint(0, 100000)  # random seed for PRNGKey\n",
    "        # if first group, just add poisson noise\n",
    "        if i == 0:\n",
    "            diff = jr.poisson(jr.PRNGKey(seed), clean_ramp[i])\n",
    "            ramp.append(diff)\n",
    "        # if not first group, add poisson noise on the new photons\n",
    "        else:\n",
    "            diff = jr.poisson(jr.PRNGKey(seed), clean_ramp[i] - clean_ramp[i - 1])\n",
    "            ramp.append(ramp[-1] + diff)\n",
    "\n",
    "    return np.array(ramp)\n",
    "\n",
    "clean_int = model_fn(true_model, n_groups=ngroups)\n",
    "data = add_noise_to_ramp(clean_int)  # adding photon noise to ramp\n",
    "io_mask = np.where(initialise_disk()==0, False, True)"
   ]
  },
  {
   "cell_type": "markdown",
   "metadata": {},
   "source": [
    "## Optimisation"
   ]
  },
  {
   "cell_type": "code",
   "execution_count": 8,
   "metadata": {},
   "outputs": [],
   "source": [
    "def bias_prior(model, mean=80, std=50):\n",
    "    # Estimated std is ~25, so we use 50 here to be conservative\n",
    "    # Estimated mean is taken from the initial bias estimation\n",
    "    bias_vec = model.biases\n",
    "    return jsp.stats.norm.logpdf(bias_vec, loc=mean, scale=std).sum()\n",
    "\n",
    "def norm_fn(model, args={}):\n",
    "    \"\"\"\n",
    "    Method for returning a new source object with a normalised total\n",
    "    spectrum and source distribution.\n",
    "\n",
    "    Returns\n",
    "    -------\n",
    "    source : Source\n",
    "        The source object with the normalised spectrum and distribution.\n",
    "    \"\"\"\n",
    "    spectrum = model.spectrum.normalise()\n",
    "    volc_contrast = np.maximum(model.volc_contrast, 0.)\n",
    "    # distribution = np.maximum(model.distribution, 0.0)\n",
    "    distribution = np.maximum(model.volcanoes, 0.0)    \n",
    "    # distribution = model.volcanoes  \n",
    "\n",
    "    # applying mask\n",
    "    distribution = np.where(args['mask'], distribution, args['mask'])\n",
    "    if distribution.sum != 0:\n",
    "        distribution /= distribution.sum()\n",
    "\n",
    "    return model.set(\n",
    "        [\n",
    "            \"spectrum\",\n",
    "            \"volcanoes\",\n",
    "            \"volc_contrast\",\n",
    "            ],\n",
    "        [\n",
    "            spectrum,\n",
    "            distribution,\n",
    "            volc_contrast,\n",
    "            ],\n",
    "        )\n",
    "\n",
    "# def grad_fn(grads, args={}, optimisers={}):\n",
    "#     return grads.set('distribution', np.where(args['mask'], grads, args['mask']))\n",
    "\n",
    "def L1_loss(model):\n",
    "    dist = model.get('distribution')\n",
    "    return np.sqrt(np.nansum(np.abs(dist)))\n",
    "\n",
    "def loss_fn(model, args={}):\n",
    "    data = args[\"data\"]\n",
    "    ramp = model_fn(model)\n",
    "    loss = np.log10(-jsp.stats.norm.logpdf(ramp, data).sum())\n",
    "    loss += args[\"L1\"] * L1_loss(model)  # L1\n",
    "    return loss\n",
    "\n",
    "\n",
    "delay = lambda lr, s: optax.piecewise_constant_schedule(lr * 1e-16, {s: 1e16})\n",
    "opt = lambda lr, start: optax.sgd(delay(lr, start), nesterov=True, momentum=0.5)\n",
    "adam_opt = lambda lr, start: optax.adam(delay(lr, start))\n",
    "clip = lambda optimiser, v: optax.chain(optimiser, optax.clip(v))"
   ]
  },
  {
   "cell_type": "code",
   "execution_count": 9,
   "metadata": {},
   "outputs": [
    {
     "name": "stdout",
     "output_type": "stream",
     "text": [
      "Step fn compiling...\n",
      "Compile Time: 0:00:09\n",
      "Initial Loss: 9.83\n"
     ]
    },
    {
     "data": {
      "application/vnd.jupyter.widget-view+json": {
       "model_id": "d081974e32f94578acc8c85f2dc0629b",
       "version_major": 2,
       "version_minor": 0
      },
      "text/plain": [
       "Loss: 9.83, Change: 0.0:  50%|#####     | 1/2 [00:00<?, ?it/s]"
      ]
     },
     "metadata": {},
     "output_type": "display_data"
    },
    {
     "name": "stdout",
     "output_type": "stream",
     "text": [
      "Full Time: 0:00:11\n",
      "Final Loss: 9.78\n"
     ]
    }
   ],
   "source": [
    "initial_model = true_model.set(\n",
    "    [\n",
    "        \"position\",\n",
    "        \"log_flux\",\n",
    "        \"distribution\",\n",
    "        \"volcanoes\",\n",
    "        \"volc_contrast\",\n",
    "        \"aberrations\",\n",
    "        \"biases\",\n",
    "        \"OneOnFs\"\n",
    "    ],\n",
    "    [\n",
    "        true_model.position + 0.1*jr.normal(jr.PRNGKey(0), shape=(2,)),\n",
    "        7.,\n",
    "        initialise_disk(normalise=True),\n",
    "        initialise_disk(normalise=True),\n",
    "        0.95*true_model.volc_contrast,\n",
    "        np.zeros_like(true_model.aberrations),\n",
    "        np.zeros_like(true_model.biases),\n",
    "        np.zeros_like(true_model.OneOnFs)\n",
    "    ],\n",
    ")\n",
    "\n",
    "L1 = 0\n",
    "\n",
    "config = {\n",
    "    # # Crude solver\n",
    "    # \"distribution\": opt(5e-7, 30),\n",
    "    \"volcanoes\": opt(5e-5, 10),\n",
    "    \"volc_contrast\": opt(1e-3, 30),\n",
    "    \"position\": adam_opt(1e-2, 0),\n",
    "    # \"aberrations\":  clip(opt(2e1, 100), 1),\n",
    "    \"log_flux\": opt(2e-4, 0),\n",
    "    \n",
    "    # # Read noise refinement\n",
    "    # \"OneOnFs\": clip(opt(5e0, 100), 1.0),\n",
    "    # \"biases\": clip(opt(3e3, 100), 4.0),\n",
    "}\n",
    "\n",
    "# params = list(config.keys())\n",
    "\n",
    "# Optimisation\n",
    "final_model, losses, params_out, opt_state = optimise(\n",
    "    initial_model,\n",
    "    # data,\n",
    "    {\"model_fn\": model_fn, \"data\": data, \"mask\": io_mask, \"L1\": L1},\n",
    "    loss_fn,\n",
    "    2,\n",
    "    config,\n",
    "    norm_fn=norm_fn,\n",
    "    # grad_fn=grad_fn,\n",
    "    print_grads=False,\n",
    "    return_state=True,\n",
    "    nan_method=\"none\",\n",
    ")"
   ]
  },
  {
   "cell_type": "code",
   "execution_count": 17,
   "metadata": {},
   "outputs": [],
   "source": [
    "now = lambda: datetime.datetime.now().strftime(\"%Y-%m-%d_%H:%M:%S\")\n",
    "save_path = \"/Users/mcha5804/Library/CloudStorage/OneDrive-TheUniversityofSydney(Students)/PyCharm/jwst/io/output/\" + now() + \"/\"\n",
    "\n",
    "if not os.path.exists(save_path):\n",
    "    os.makedirs(save_path)\n",
    "\n",
    "plot_params(true_model, losses, params_out, format_fn, save=save_path)\n",
    "\n",
    "plot_io_with_truth(\n",
    "    final_model,\n",
    "    model_fn,\n",
    "    data,\n",
    "    losses,\n",
    "    ngroups,\n",
    "    opt_state,\n",
    "    initial_distribution=initial_model.source.distribution,\n",
    "    truth=true_model.distribution,\n",
    "    save=save_path,\n",
    "    )\n"
   ]
  },
  {
   "cell_type": "code",
   "execution_count": 15,
   "metadata": {},
   "outputs": [
    {
     "name": "stdout",
     "output_type": "stream",
     "text": [
      "2024-04-02_13:33:09\n"
     ]
    }
   ],
   "source": [
    "\n"
   ]
  },
  {
   "cell_type": "code",
   "execution_count": null,
   "metadata": {},
   "outputs": [],
   "source": []
  }
 ],
 "metadata": {
  "kernelspec": {
   "display_name": "dLux",
   "language": "python",
   "name": "python3"
  },
  "language_info": {
   "codemirror_mode": {
    "name": "ipython",
    "version": 3
   },
   "file_extension": ".py",
   "mimetype": "text/x-python",
   "name": "python",
   "nbconvert_exporter": "python",
   "pygments_lexer": "ipython3",
   "version": "3.12.0"
  }
 },
 "nbformat": 4,
 "nbformat_minor": 2
}
