{
 "cells": [
  {
   "cell_type": "code",
   "execution_count": 1,
   "metadata": {},
   "outputs": [
    {
     "name": "stderr",
     "output_type": "stream",
     "text": [
      "**WARNING**: LOCAL JWST PRD VERSION PRDOPSSOC-063 DOESN'T MATCH THE CURRENT ONLINE VERSION PRDOPSSOC-065\n",
      "Please consider updating pysiaf, e.g. pip install --upgrade pysiaf or conda update pysiaf\n"
     ]
    },
    {
     "name": "stdout",
     "output_type": "stream",
     "text": [
      "dLux: Jax is running in 32-bit, to enable 64-bit visit: https://jax.readthedocs.io/en/latest/notebooks/Common_Gotchas_in_JAX.html#double-64bit-precision\n"
     ]
    }
   ],
   "source": [
    "from amigo.pipelines import process_uncal, process_calslope\n",
    "import os\n",
    "\n",
    "os.environ[\"CRDS_PATH\"] = \"/Users/mcha5804/JWST/crds_cache/\"\n",
    "dirs = [\n",
    "    \"/Users/mcha5804/JWST/ERS1373/stage0\",\n",
    "]"
   ]
  },
  {
   "cell_type": "code",
   "execution_count": 2,
   "metadata": {},
   "outputs": [
    {
     "name": "stdout",
     "output_type": "stream",
     "text": [
      "Cleaning existing directory\n",
      "Running calslope processing...\n"
     ]
    },
    {
     "data": {
      "application/vnd.jupyter.widget-view+json": {
       "model_id": "4e1f322a455e43c1b6a770960ebb2722",
       "version_major": 2,
       "version_minor": 0
      },
      "text/plain": [
       "  0%|          | 0/9 [00:00<?, ?it/s]"
      ]
     },
     "metadata": {},
     "output_type": "display_data"
    },
    {
     "name": "stdout",
     "output_type": "stream",
     "text": [
      "PSFCAL.2022A-HD2236-K6 8\n",
      "Breaking into 1 chunks\n",
      "PSFCAL.2022A-HD2236-K6 8\n",
      "Breaking into 1 chunks\n",
      "IO 100\n",
      "Breaking into 1 chunks\n",
      "IO 100\n",
      "Breaking into 1 chunks\n",
      "IO 100\n",
      "Breaking into 1 chunks\n",
      "IO 100\n",
      "Breaking into 1 chunks\n",
      "IO 100\n",
      "Breaking into 1 chunks\n",
      "PSFCAL.2022A-HD2236-K6 8\n",
      "Breaking into 1 chunks\n",
      "PSFCAL.2022A-HD2236-K6 8\n",
      "Breaking into 1 chunks\n",
      "Done\n",
      "\n"
     ]
    }
   ],
   "source": [
    "for directory in dirs:\n",
    "    stage1_dir = process_uncal(directory)\n",
    "    calgrps_dir = process_calslope(stage1_dir, 'calslope_18', chunk_size=100, n_groups=18, dq_thresh=40)"
   ]
  },
  {
   "cell_type": "code",
   "execution_count": null,
   "metadata": {},
   "outputs": [],
   "source": []
  }
 ],
 "metadata": {
  "kernelspec": {
   "display_name": "dLux",
   "language": "python",
   "name": "python3"
  },
  "language_info": {
   "codemirror_mode": {
    "name": "ipython",
    "version": 3
   },
   "file_extension": ".py",
   "mimetype": "text/x-python",
   "name": "python",
   "nbconvert_exporter": "python",
   "pygments_lexer": "ipython3",
   "version": "3.11.7"
  }
 },
 "nbformat": 4,
 "nbformat_minor": 2
}
