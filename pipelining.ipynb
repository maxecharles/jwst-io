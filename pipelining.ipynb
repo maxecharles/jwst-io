{
 "cells": [
  {
   "cell_type": "code",
   "execution_count": 10,
   "metadata": {},
   "outputs": [],
   "source": [
    "from amigo.pipelines import process_stage0, process_stage1\n",
    "import os\n",
    "\n",
    "os.environ[\"CRDS_PATH\"] = \"/Users/mcha5804/JWST/crds_cache/\"\n",
    "dirs = [\n",
    "    \"/Users/mcha5804/JWST/ERS1373/stage0\",\n",
    "]"
   ]
  },
  {
   "cell_type": "code",
   "execution_count": 11,
   "metadata": {},
   "outputs": [
    {
     "name": "stdout",
     "output_type": "stream",
     "text": [
      "Running stage 1...\n",
      "File already exists, skipping...\n",
      "File already exists, skipping...\n",
      "File already exists, skipping...\n",
      "File already exists, skipping...\n",
      "File already exists, skipping...\n",
      "File already exists, skipping...\n",
      "File already exists, skipping...\n",
      "File already exists, skipping...\n",
      "File already exists, skipping...\n",
      "Done\n",
      "\n",
      "Running calgrps processing...\n",
      "Done\n",
      "\n"
     ]
    }
   ],
   "source": [
    "for directory in dirs:\n",
    "    stage1_dir = process_stage0(directory)\n",
    "    calgrps_dir = process_stage1(stage1_dir, 'calslope_18', n_groups=18, dq_thresh=40)"
   ]
  }
 ],
 "metadata": {
  "kernelspec": {
   "display_name": "dLux",
   "language": "python",
   "name": "python3"
  },
  "language_info": {
   "codemirror_mode": {
    "name": "ipython",
    "version": 3
   },
   "file_extension": ".py",
   "mimetype": "text/x-python",
   "name": "python",
   "nbconvert_exporter": "python",
   "pygments_lexer": "ipython3",
   "version": "3.11.7"
  }
 },
 "nbformat": 4,
 "nbformat_minor": 2
}
