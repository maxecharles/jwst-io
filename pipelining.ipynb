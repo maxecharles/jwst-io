{
 "cells": [
  {
   "cell_type": "code",
   "execution_count": 2,
   "metadata": {},
   "outputs": [],
   "source": [
    "from amigo.pipelines import process_stage0, process_stage1\n",
    "import os\n",
    "\n",
    "os.environ[\"CRDS_PATH\"] = \"/Users/mcha5804/JWST/crds_cache/\"\n",
    "dirs = [\n",
    "    \"/Users/mcha5804/JWST/ERS1373/stage0\",\n",
    "]"
   ]
  },
  {
   "cell_type": "code",
   "execution_count": 3,
   "metadata": {},
   "outputs": [
    {
     "name": "stderr",
     "output_type": "stream",
     "text": [
      "2024-02-20 16:13:16,356 - stpipe - WARNING - /Users/mcha5804/miniconda3/envs/amigo/lib/python3.11/site-packages/amigo/pipelines.py:156: RuntimeWarning: Mean of empty slice\n",
      "2024-02-20 16:13:16,357 - stpipe - WARNING -   ramp = np.nanmean(cleaned_ramp, axis=0)\n",
      "2024-02-20 16:13:16,357 - stpipe - WARNING - \n",
      "2024-02-20 16:13:16,361 - stpipe - WARNING - /Users/mcha5804/miniconda3/envs/amigo/lib/python3.11/site-packages/numpy/lib/nanfunctions.py:1879: RuntimeWarning: Degrees of freedom <= 0 for slice.\n",
      "2024-02-20 16:13:16,361 - stpipe - WARNING -   var = nanvar(a, axis=axis, dtype=dtype, out=out, ddof=ddof,\n",
      "2024-02-20 16:13:16,361 - stpipe - WARNING - \n"
     ]
    },
    {
     "name": "stdout",
     "output_type": "stream",
     "text": [
      "Running stage 1...\n",
      "File already exists, skipping...\n",
      "File already exists, skipping...\n",
      "File already exists, skipping...\n",
      "File already exists, skipping...\n",
      "File already exists, skipping...\n",
      "File already exists, skipping...\n",
      "File already exists, skipping...\n",
      "File already exists, skipping...\n",
      "File already exists, skipping...\n",
      "Done\n",
      "\n",
      "Running calgrps processing...\n",
      "Done\n",
      "\n"
     ]
    }
   ],
   "source": [
    "for directory in dirs:\n",
    "    stage1_dir = process_stage0(directory)\n",
    "    calgrps_dir = process_stage1(stage1_dir)"
   ]
  },
  {
   "cell_type": "code",
   "execution_count": null,
   "metadata": {},
   "outputs": [],
   "source": []
  }
 ],
 "metadata": {
  "kernelspec": {
   "display_name": "dLux",
   "language": "python",
   "name": "python3"
  },
  "language_info": {
   "codemirror_mode": {
    "name": "ipython",
    "version": 3
   },
   "file_extension": ".py",
   "mimetype": "text/x-python",
   "name": "python",
   "nbconvert_exporter": "python",
   "pygments_lexer": "ipython3",
   "version": "3.11.7"
  }
 },
 "nbformat": 4,
 "nbformat_minor": 2
}
